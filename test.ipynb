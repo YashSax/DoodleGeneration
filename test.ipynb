{
 "cells": [
  {
   "cell_type": "code",
   "execution_count": 1,
   "metadata": {},
   "outputs": [],
   "source": [
    "%load_ext autoreload\n",
    "%autoreload 2"
   ]
  },
  {
   "cell_type": "code",
   "execution_count": 2,
   "metadata": {},
   "outputs": [],
   "source": [
    "import numpy as np\n",
    "from util import *\n",
    "import re\n",
    "import clip\n",
    "import torch\n",
    "from tqdm import tqdm\n",
    "from torch.utils.data import Dataset, DataLoader\n",
    "from pathlib import Path\n",
    "from typing import List, Tuple"
   ]
  },
  {
   "cell_type": "code",
   "execution_count": 3,
   "metadata": {},
   "outputs": [],
   "source": [
    "example_data = np.load(\"./dataset/sketchrnn_angel.full.npz\", encoding='latin1', allow_pickle=True)"
   ]
  },
  {
   "cell_type": "code",
   "execution_count": 4,
   "metadata": {},
   "outputs": [
    {
     "data": {
      "image/svg+xml": [
       "<svg xmlns=\"http://www.w3.org/2000/svg\" xmlns:ev=\"http://www.w3.org/2001/xml-events\" xmlns:xlink=\"http://www.w3.org/1999/xlink\" baseProfile=\"full\" height=\"504.0\" version=\"1.1\" width=\"668.0\"><defs/><rect fill=\"white\" height=\"504.0\" width=\"668.0\" x=\"0\" y=\"0\"/><path d=\"M412.0,30.0 m-17.0,-5.0 l-12.0,0.0 -14.0,5.0 l-16.0,14.0 -15.0,19.0 l-11.0,23.0 -3.0,32.0 l2.0,9.0 6.0,6.0 l21.0,-2.0 13.0,-11.0 l12.0,-19.0 13.0,-32.0 l0.0,-19.0 -6.0,-5.0 l-22.0,-3.0 m-33.0,84.0 l-2.0,20.0 -16.0,50.0 l-76.0,187.0 -18.0,56.0 l-3.0,18.0 5.0,4.0 l51.0,-13.0 62.0,-1.0 l53.0,7.0 30.0,9.0 l26.0,1.0 7.0,-3.0 l19.0,-25.0 11.0,-33.0 l1.0,-51.0 -3.0,-15.0 l-17.0,-43.0 -44.0,-52.0 l-34.0,-60.0 -12.0,-37.0 l-6.0,-41.0 0.0,-37.0 m-75.0,371.0 l-6.0,4.0 -4.0,14.0 l-4.0,42.0 8.0,6.0 l14.0,0.0 9.0,-12.0 l2.0,-20.0 -13.0,-23.0 m100.0,9.0 l-5.0,-2.0 -8.0,3.0 l-6.0,8.0 -9.0,32.0 l2.0,16.0 7.0,4.0 l19.0,-2.0 16.0,-23.0 l5.0,-23.0 -1.0,-15.0 l-11.0,-7.0 m-109.0,-209.0 l-46.0,-70.0 -31.0,-41.0 l-18.0,-14.0 -9.0,-3.0 l-34.0,-2.0 -41.0,16.0 l-17.0,12.0 -12.0,14.0 l-16.0,22.0 -22.0,42.0 l-23.0,56.0 -1.0,24.0 l7.0,-2.0 38.0,-45.0 l26.0,-19.0 8.0,1.0 l4.0,20.0 5.0,9.0 l10.0,5.0 15.0,0.0 l25.0,-8.0 28.0,1.0 l33.0,26.0 25.0,8.0 l38.0,2.0 m105.0,-57.0 l43.0,-45.0 27.0,-21.0 l16.0,-8.0 27.0,-10.0 l15.0,-2.0 63.0,0.0 l14.0,6.0 34.0,38.0 l47.0,105.0 5.0,22.0 l-8.0,3.0 -16.0,-8.0 l-20.0,-33.0 -10.0,-29.0 l-6.0,-5.0 -12.0,2.0 l-43.0,36.0 -5.0,-2.0 l-4.0,-19.0 -11.0,-1.0 l-53.0,25.0 -19.0,-2.0 l-11.0,-10.0 \" fill=\"none\" stroke=\"black\" stroke-width=\"1\"/></svg>"
      ],
      "text/plain": [
       "<IPython.core.display.SVG object>"
      ]
     },
     "metadata": {},
     "output_type": "display_data"
    }
   ],
   "source": [
    "draw_strokes(example_data['train'][0], factor=1)"
   ]
  },
  {
   "cell_type": "code",
   "execution_count": 5,
   "metadata": {},
   "outputs": [],
   "source": [
    "def encode_stroke_data(stroke_data: np.array, pad_length=None):\n",
    "    # Going from [x, y, lift_pen] to [delta_x, delta_y, pen_on_paper, pen_off_paper, finished]\n",
    "    new_doodle = np.zeros((stroke_data.shape[0], 5))\n",
    "    \n",
    "    # Handling delta_x, delta_y\n",
    "    new_row = np.zeros((1, 3))\n",
    "    temp = np.vstack([new_row, stroke_data])\n",
    "    new_doodle[:, :2] = temp[1:, :2] - temp[:-1, :2]\n",
    "    \n",
    "    # Handling pen_on_paper and pen_off_paper\n",
    "    new_doodle[:, 2] = stroke_data[:, 2] == 0\n",
    "    new_doodle[:, 3] = stroke_data[:, 2] == 1\n",
    "\n",
    "    # Handling finished\n",
    "    new_doodle[-1, 2] = 0 \n",
    "    new_doodle[-1, 3] = 0 \n",
    "    new_doodle[-1, 4] = 1\n",
    "    \n",
    "    if pad_length is not None and new_doodle.shape[0] < pad_length:\n",
    "        padding = np.zeros((pad_length - new_doodle.shape[0], 5))\n",
    "        padding[:, 4] = 1  # Set finished flag to 1 for padding\n",
    "        new_doodle = np.vstack([new_doodle, padding])\n",
    "\n",
    "    return new_doodle\n",
    "\n",
    "def decode_stroke_data(stroke_data: np.array):\n",
    "    # Going from [delta_x, delta_y, pen_on_paper, pen_off_paper, finished] to [x, y, lift_pen]\n",
    "    new_doodle = np.zeros((stroke_data.shape[0], 3))\n",
    "    new_doodle[:, :2] = np.cumsum(stroke_data[:, :2], axis=0)    \n",
    "    new_doodle[:, 2] = np.logical_or(stroke_data[:, 3], stroke_data[:, 4])\n",
    "    return new_doodle"
   ]
  },
  {
   "cell_type": "code",
   "execution_count": 6,
   "metadata": {},
   "outputs": [
    {
     "data": {
      "text/plain": [
       "'cuda'"
      ]
     },
     "execution_count": 6,
     "metadata": {},
     "output_type": "execute_result"
    }
   ],
   "source": [
    "device = \"cuda\" if torch.cuda.is_available() else \"cpu\"\n",
    "device"
   ]
  },
  {
   "cell_type": "code",
   "execution_count": 7,
   "metadata": {},
   "outputs": [],
   "source": [
    "clip_model, _ = clip.load(\"ViT-B/32\", device=device)"
   ]
  },
  {
   "cell_type": "code",
   "execution_count": 8,
   "metadata": {},
   "outputs": [
    {
     "name": "stdout",
     "output_type": "stream",
     "text": [
      "Preprocessing Data:\n"
     ]
    },
    {
     "name": "stderr",
     "output_type": "stream",
     "text": [
      "4it [00:12,  3.02s/it]\n"
     ]
    },
    {
     "name": "stdout",
     "output_type": "stream",
     "text": [
      "Calculating CLIP Embeddings\n"
     ]
    },
    {
     "name": "stderr",
     "output_type": "stream",
     "text": [
      "c:\\Python310\\lib\\site-packages\\torch\\nn\\functional.py:5504: UserWarning: 1Torch was not compiled with flash attention. (Triggered internally at ..\\aten\\src\\ATen\\native\\transformers\\cuda\\sdp_utils.cpp:455.)\n",
      "  attn_output = scaled_dot_product_attention(q, k, v, attn_mask, dropout_p, is_causal)\n"
     ]
    },
    {
     "name": "stdout",
     "output_type": "stream",
     "text": [
      "Class Order counts: [('angel', 7459128), ('anvil', 693716), ('apple', 1051387), ('axe', 445496)]\n",
      "Class Doodle lengths: [(0, 12), (1, 1), (2, 2), (3, 17), (4, 1), (5, 1), (6, 3), (7, 31), (8, 12), (9, 2)]\n"
     ]
    }
   ],
   "source": [
    "class DoodleDataset(Dataset):\n",
    "    def __init__(self, data_dir: Path, split: str, block_size: int):\n",
    "        self.data_dir = data_dir\n",
    "        self.block_size = block_size\n",
    "        self.data = {}\n",
    "        self.class_embeddings = {}\n",
    "        \n",
    "        print(\"Preprocessing Data:\")\n",
    "        for filepath in tqdm(self.data_dir.glob(\"*.npz\")):\n",
    "            class_name = self._extract_class_name(filepath)\n",
    "            class_doodles = self._extract_data(filepath, split, pad_length=self.block_size + 1) # Pad to block_size + 1 because we need x and y        \n",
    "            self.data[class_name] = class_doodles\n",
    "        \n",
    "        print(\"Calculating CLIP Embeddings\")\n",
    "        class_names = list(self.data.keys())\n",
    "        tokenized_classnames = clip.tokenize(class_names)\n",
    "        with torch.no_grad():\n",
    "            text_features = clip_model.encode_text(tokenized_classnames.to(device))\n",
    "        \n",
    "        for class_name, class_features in zip(class_names, text_features):\n",
    "            self.class_embeddings[class_name] = class_features\n",
    "\n",
    "        self.class_order_counts = []\n",
    "        self.class_doodle_lengths = {} # Key = classname, Value = List[int], # blocks\n",
    "        for class_name, class_doodles in self.data.items():\n",
    "            self.class_doodle_lengths[class_name] = [(idx, self.get_num_blocks(doodle)) for idx, doodle in enumerate(class_doodles)]\n",
    "            num_blocks_in_doodles = sum(i[1] for i in self.class_doodle_lengths[class_name])\n",
    "            self.class_order_counts.append((class_name, num_blocks_in_doodles))\n",
    "        \n",
    "        print(\"Class Order counts:\", self.class_order_counts)\n",
    "        print(\"Class Doodle lengths:\", self.class_doodle_lengths[\"apple\"][:10])\n",
    "            \n",
    "    def get_num_blocks(self, doodle):\n",
    "        return doodle.shape[0] - self.block_size\n",
    "    \n",
    "    def __len__(self):\n",
    "        return sum(i[1] for i in self.class_order_counts)\n",
    "\n",
    "    def get_category_from_index(self, idx: int, category_list: List[Tuple]):\n",
    "        for category, count in category_list:\n",
    "            idx -= count\n",
    "            if idx < 0:\n",
    "                return category, idx + count\n",
    "        return category_list[-1][0], idx\n",
    "\n",
    "    def __getitem__(self, idx):\n",
    "        assert idx < len(self), f\"Index {idx} out of bounds with length {len(self)}!\"\n",
    "        \n",
    "        # Get the class name\n",
    "        class_name, idx_remainder = self.get_category_from_index(idx, self.class_order_counts)\n",
    "        # print(\"Class name:\", class_name)\n",
    "        \n",
    "        # Get the doodle index\n",
    "        # print(\"Postprocessed idx:\", idx_remainder)\n",
    "        doodle_index, block_idx = self.get_category_from_index(idx_remainder, self.class_doodle_lengths[class_name])\n",
    "         \n",
    "        # print(\"Doodle index:\", doodle_index)\n",
    "        # print(\"Block idx:\", block_idx)\n",
    "        \n",
    "        # Extract the block\n",
    "        full_doodle = self.data[class_name][doodle_index]\n",
    "        # print(\"Full doodle length:\", full_doodle.shape)\n",
    "        \n",
    "        x = full_doodle[block_idx : block_idx + self.block_size]\n",
    "        y = full_doodle[block_idx + 1 : block_idx + self.block_size + 1]\n",
    "        classname_embedding = self.class_embeddings[class_name]\n",
    "        \n",
    "        return torch.from_numpy(x), torch.from_numpy(y), classname_embedding \n",
    "\n",
    "    def _extract_class_name(self, file: Path):\n",
    "        # Example filename: `sketchrnn_apple.full.npz`\n",
    "        pattern = r\"sketchrnn_([^.]+)\\.full\\.npz\"\n",
    "        match = re.match(pattern, file.name)\n",
    "        assert match, f\"Regex for detecting classname failed on {file}\"        \n",
    "        return match.group(1)\n",
    "\n",
    "    def _extract_data(self, file: Path, split: str, pad_length: int):\n",
    "        assert split in [\"train\", \"test\", \"valid\"], f\"Split {split} is not one of: train, test, valid!\"\n",
    "\n",
    "        raw_data = np.load(file, encoding='latin1', allow_pickle=True)[split]\n",
    "        encoded_doodles = []\n",
    "        for doodle in raw_data:\n",
    "            encoded_doodles.append(encode_stroke_data(doodle, pad_length=pad_length))\n",
    "        \n",
    "        return encoded_doodles\n",
    "\n",
    "train_dataset = DoodleDataset(Path(\"./dataset\"), split=\"train\", block_size=31)\n",
    "train_dataloader = DataLoader(train_dataset, batch_size=32)\n",
    "\n",
    "# test_dataset = DoodleDataset(Path(\"./dataset\"), split=\"test\")\n",
    "# test_dataloader = DataLoader(test_dataset, batch_size=256)"
   ]
  },
  {
   "cell_type": "code",
   "execution_count": 9,
   "metadata": {},
   "outputs": [
    {
     "data": {
      "text/plain": [
       "9649727"
      ]
     },
     "execution_count": 9,
     "metadata": {},
     "output_type": "execute_result"
    }
   ],
   "source": [
    "len(train_dataset)"
   ]
  },
  {
   "cell_type": "code",
   "execution_count": 10,
   "metadata": {},
   "outputs": [
    {
     "data": {
      "text/plain": [
       "(torch.Size([31, 5]), torch.Size([31, 5]), torch.Size([512]))"
      ]
     },
     "execution_count": 10,
     "metadata": {},
     "output_type": "execute_result"
    }
   ],
   "source": [
    "x, y, classname_embedding = train_dataset[9_000]\n",
    "x.shape, y.shape, classname_embedding.shape"
   ]
  },
  {
   "cell_type": "code",
   "execution_count": 11,
   "metadata": {},
   "outputs": [],
   "source": [
    "for batch in train_dataloader:\n",
    "    ex_batch = batch\n",
    "    break"
   ]
  },
  {
   "cell_type": "code",
   "execution_count": 12,
   "metadata": {},
   "outputs": [
    {
     "data": {
      "text/plain": [
       "(torch.Size([32, 31, 5]), torch.Size([32, 31, 5]), torch.Size([32, 512]))"
      ]
     },
     "execution_count": 12,
     "metadata": {},
     "output_type": "execute_result"
    }
   ],
   "source": [
    "xs, ys, ex_classname_embeddings = ex_batch\n",
    "xs, ys, ex_classname_embeddings = xs.to(device), ys.to(device), ex_classname_embeddings.to(device)\n",
    "xs.shape, ys.shape, ex_classname_embeddings.shape"
   ]
  },
  {
   "cell_type": "code",
   "execution_count": 13,
   "metadata": {},
   "outputs": [],
   "source": [
    "import torch.nn as nn"
   ]
  },
  {
   "cell_type": "code",
   "execution_count": 14,
   "metadata": {},
   "outputs": [],
   "source": [
    "class DoodlePredictorConfig:\n",
    "    def __init__(\n",
    "        self,\n",
    "        device: str = \"cpu\",\n",
    "        stroke_input_size: int = 5,\n",
    "        stroke_embed_size: int = 512,\n",
    "        num_attention_heads: int = 32,\n",
    "        num_transformer_blocks: int = 16,\n",
    "        transformer_dropout: float = 0.1,\n",
    "    ):\n",
    "        self.device = device\n",
    "        self.stroke_input_size = stroke_input_size\n",
    "        self.stroke_embed_size = stroke_embed_size\n",
    "        self.num_attention_heads = num_attention_heads\n",
    "        self.num_transformer_blocks = num_transformer_blocks\n",
    "        self.transformer_dropout = transformer_dropout\n",
    "\n",
    "\n",
    "class DoodlePredictor(nn.Module):\n",
    "    def __init__(self, config: DoodlePredictorConfig):\n",
    "        super().__init__()\n",
    "        self.config = config\n",
    "        self.stroke_encoder_mlp = StrokeEncoderMLP(\n",
    "            input_size=self.config.stroke_input_size,\n",
    "            output_size=self.config.stroke_embed_size,\n",
    "        ).to(self.config.device)\n",
    "        \n",
    "        self.stroke_transformer = StrokeTransformer(\n",
    "            num_transformer_blocks=self.config.num_transformer_blocks,\n",
    "            num_attention_heads=self.config.num_attention_heads,\n",
    "            embed_size=self.config.stroke_embed_size,\n",
    "            dropout=self.config.transformer_dropout,\n",
    "        ).to(self.config.device)\n",
    "        \n",
    "        self.stroke_decoder = StrokeDecoderMLP(\n",
    "            input_size=self.config.stroke_embed_size,\n",
    "            output_size=self.config.stroke_input_size\n",
    "        )\n",
    "        \n",
    "    def forward(self, x: torch.Tensor, classname_embedding: torch.Tensor):\n",
    "        # x is of shape: (batch_size, block_size - 1, stroke_input_size)\n",
    "        encoded_strokes = self.stroke_encoder_mlp(x) # (batch_size, block_size - 1, self.stroke_embed_size)\n",
    "        \n",
    "        # TODO: Currently this assumes that the CLIP embedding size is the same as self.config.stroke_embed_size\n",
    "        combined_input = torch.cat((encoded_strokes, classname_embedding.unsqueeze(1)), dim=1) # (batch_size, block_size, self.stroke_embed_size)\n",
    "        \n",
    "        transformer_out = self.stroke_transformer(combined_input)\n",
    "        \n",
    "        decoded_out = self.stroke_decoder(transformer_out)\n",
    "        \n",
    "        return decoded_out[:, 1:, :]\n",
    "\n",
    "\n",
    "class StrokeTransformer(nn.Module):\n",
    "    # TODO: Add causal mask\n",
    "    def __init__(self, num_transformer_blocks: int, num_attention_heads: int, embed_size: int, dropout: float):\n",
    "        super().__init__()\n",
    "        \n",
    "        encoder_layer = nn.TransformerEncoderLayer(\n",
    "            d_model=embed_size,\n",
    "            nhead=num_attention_heads,\n",
    "            dim_feedforward=4 * embed_size,  # Common practice to use 4x embed size\n",
    "            dropout=dropout,\n",
    "            batch_first=True\n",
    "        )\n",
    "        \n",
    "        self.transformer = nn.TransformerEncoder(\n",
    "            encoder_layer,\n",
    "            num_layers=num_transformer_blocks\n",
    "        )\n",
    "        \n",
    "        # Layer norm before transformer\n",
    "        self.layer_norm = nn.LayerNorm(embed_size)\n",
    "        \n",
    "    def forward(self, x: torch.Tensor) -> torch.Tensor:\n",
    "        # x shape: (batch_size, block_size, embed_size)\n",
    "        x = self.layer_norm(x)\n",
    "        return self.transformer(x)\n",
    "\n",
    "\n",
    "class StrokeEncoderMLP(nn.Module):\n",
    "    def __init__(self, input_size: int, output_size: int):\n",
    "        super().__init__()\n",
    "        self.input_size = input_size\n",
    "        self.output_size = output_size\n",
    "        \n",
    "        # TODO: Batchnorm, or some type of norm?\n",
    "        self.net = nn.Sequential(\n",
    "            nn.Linear(self.input_size, 128),\n",
    "            nn.ReLU(),\n",
    "            nn.Linear(128, 256),\n",
    "            nn.ReLU(),\n",
    "            nn.Linear(256, self.output_size)\n",
    "        )\n",
    "\n",
    "    def forward(self, x):\n",
    "        return self.net(x)\n",
    "\n",
    "class StrokeDecoderMLP(nn.Module):\n",
    "    def __init__(self, input_size: int, output_size: int):\n",
    "        super().__init__()\n",
    "        \n",
    "        self.input_size = input_size\n",
    "        self.output_size = output_size\n",
    "        \n",
    "        self.net = nn.Sequential(\n",
    "            nn.Linear(self.input_size, 256),\n",
    "            nn.ReLU(),\n",
    "            nn.Linear(256, 128),\n",
    "            nn.ReLU(),\n",
    "            nn.Linear(128, self.output_size)\n",
    "        )\n",
    "    \n",
    "    def forward(self, x: torch.Tensor):\n",
    "        return self.net(x)\n",
    "        \n"
   ]
  },
  {
   "cell_type": "code",
   "execution_count": 15,
   "metadata": {},
   "outputs": [],
   "source": [
    "mse_loss = nn.MSELoss()\n",
    "bce_loss = nn.BCELoss()\n",
    "softmax = nn.Softmax()\n",
    "\n",
    "def calculate_loss(predicted: torch.Tensor, y: torch.Tensor, position_coeff: float, pen_state_coeff: float):\n",
    "    assert predicted.shape == y.shape\n",
    "    predicted_delta_positions = predicted[:, :, :2]\n",
    "    actual_delta_positions = y[:, :, :2]\n",
    "    position_loss = mse_loss(predicted_delta_positions, actual_delta_positions)\n",
    "    \n",
    "    predicted_pen_state = softmax(predicted[:, :, 2:])\n",
    "    actual_pen_state = y[:, :, 2:]\n",
    "    pen_state_loss = bce_loss(predicted_pen_state, actual_pen_state)\n",
    "    \n",
    "    scaled_position_loss = position_coeff * position_loss\n",
    "    scaled_pen_state_loss = pen_state_coeff * pen_state_loss\n",
    "    \n",
    "    print(\"Position loss =\", scaled_position_loss.item())\n",
    "    print(\"Pen State loss =\", scaled_pen_state_loss.item())\n",
    "    \n",
    "    loss = scaled_position_loss + scaled_pen_state_loss\n",
    "    return loss"
   ]
  },
  {
   "cell_type": "code",
   "execution_count": 22,
   "metadata": {},
   "outputs": [
    {
     "name": "stdout",
     "output_type": "stream",
     "text": [
      "Position loss = 1.1795068762925551\n",
      "Pen State loss = 1.1760341832492627\n"
     ]
    },
    {
     "data": {
      "text/plain": [
       "tensor(2.3555, device='cuda:0', dtype=torch.float64, grad_fn=<AddBackward0>)"
      ]
     },
     "execution_count": 22,
     "metadata": {},
     "output_type": "execute_result"
    }
   ],
   "source": [
    "doodle_predictor_config = DoodlePredictorConfig()\n",
    "doodle_predictor = DoodlePredictor(doodle_predictor_config).to(device)\n",
    "\n",
    "ex_out = doodle_predictor(xs.float(), ex_classname_embeddings.float())\n",
    "\n",
    "ex_loss = calculate_loss(ex_out.double(), ys, position_coeff=0.00025, pen_state_coeff=0.99975)\n",
    "ex_loss"
   ]
  },
  {
   "cell_type": "code",
   "execution_count": 37,
   "metadata": {},
   "outputs": [
    {
     "data": {
      "image/png": "[encoded data removed]",
      "text/plain": [
       "<Figure size 1000x600 with 1 Axes>"
      ]
     },
     "metadata": {},
     "output_type": "display_data"
    }
   ],
   "source": [
    "doodle_lengths = [len(train_dataset[i][0]) for i in range(len(train_dataset))]\n",
    "import matplotlib.pyplot as plt\n",
    "\n",
    "plt.figure(figsize=(10, 6))\n",
    "plt.hist(doodle_lengths, bins=50, edgecolor='black')\n",
    "plt.title('Distribution of Doodle Lengths')\n",
    "plt.xlabel('Number of Strokes')\n",
    "plt.ylabel('Frequency')\n",
    "plt.show()\n"
   ]
  },
  {
   "cell_type": "code",
   "execution_count": null,
   "metadata": {},
   "outputs": [],
   "source": []
  }
 ],
 "metadata": {
  "kernelspec": {
   "display_name": "Python 3",
   "language": "python",
   "name": "python3"
  },
  "language_info": {
   "codemirror_mode": {
    "name": "ipython",
    "version": 3
   },
   "file_extension": ".py",
   "mimetype": "text/x-python",
   "name": "python",
   "nbconvert_exporter": "python",
   "pygments_lexer": "ipython3",
   "version": "3.10.2"
  }
 },
 "nbformat": 4,
 "nbformat_minor": 2
}
