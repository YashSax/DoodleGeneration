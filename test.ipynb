{
 "cells": [
  {
   "cell_type": "code",
   "execution_count": 1,
   "metadata": {},
   "outputs": [],
   "source": [
    "%load_ext autoreload\n",
    "%autoreload 2"
   ]
  },
  {
   "cell_type": "code",
   "execution_count": 2,
   "metadata": {},
   "outputs": [],
   "source": [
    "import numpy as np\n",
    "from doodle_parsing_utils import *\n",
    "import re\n",
    "import clip\n",
    "import torch\n",
    "from tqdm import tqdm\n",
    "from torch.utils.data import Dataset, DataLoader\n",
    "from pathlib import Path\n",
    "from typing import List, Tuple"
   ]
  },
  {
   "cell_type": "code",
   "execution_count": 3,
   "metadata": {},
   "outputs": [],
   "source": [
    "example_data = np.load(\"./dataset/sketchrnn_apple.full.npz\", encoding='latin1', allow_pickle=True)"
   ]
  },
  {
   "cell_type": "code",
   "execution_count": 4,
   "metadata": {},
   "outputs": [
    {
     "data": {
      "text/plain": [
       "127188"
      ]
     },
     "execution_count": 4,
     "metadata": {},
     "output_type": "execute_result"
    }
   ],
   "source": [
    "len(example_data[\"train\"])"
   ]
  },
  {
   "cell_type": "code",
   "execution_count": 5,
   "metadata": {},
   "outputs": [
    {
     "data": {
      "image/svg+xml": [
       "<svg xmlns=\"http://www.w3.org/2000/svg\" xmlns:ev=\"http://www.w3.org/2001/xml-events\" xmlns:xlink=\"http://www.w3.org/1999/xlink\" baseProfile=\"full\" height=\"177.0\" version=\"1.1\" width=\"130.0\"><defs/><rect fill=\"white\" height=\"177.0\" width=\"130.0\" x=\"0\" y=\"0\"/><path d=\"M37.0,99.0 m0.0,48.0 l6.0,20.0 10.0,-2.0 l5.0,-5.0 8.0,-20.0 l3.0,15.0 8.0,15.0 l11.0,2.0 15.0,-9.0 l7.0,-10.0 4.0,-26.0 l11.0,-21.0 -2.0,-5.0 l-13.0,-12.0 -17.0,-9.0 l-29.0,-8.0 -21.0,2.0 l-11.0,4.0 -4.0,6.0 l-3.0,10.0 5.0,2.0 l24.0,-8.0 m36.0,-17.0 l-5.0,-25.0 -19.0,-11.0 m0.0,0.0 l-5.0,-2.0 -2.0,-6.0 m0.0,0.0 l6.0,-2.0 \" fill=\"none\" stroke=\"black\" stroke-width=\"1\"/></svg>"
      ],
      "text/plain": [
       "<IPython.core.display.SVG object>"
      ]
     },
     "metadata": {},
     "output_type": "display_data"
    }
   ],
   "source": [
    "import random\n",
    "draw_strokes(random.choice(example_data['train']), factor=1)"
   ]
  },
  {
   "cell_type": "code",
   "execution_count": 8,
   "metadata": {},
   "outputs": [
    {
     "name": "stdout",
     "output_type": "stream",
     "text": [
      "Preprocessing Data:\n"
     ]
    },
    {
     "name": "stderr",
     "output_type": "stream",
     "text": [
      "1it [00:02,  2.77s/it]"
     ]
    },
    {
     "name": "stdout",
     "output_type": "stream",
     "text": [
      "Calculating CLIP Embeddings\n"
     ]
    },
    {
     "name": "stderr",
     "output_type": "stream",
     "text": [
      "\n"
     ]
    }
   ],
   "source": [
    "from doodle_dataset import DoodleDataset\n",
    "from pathlib import Path\n",
    "from doodle_dataset import encode_stroke_data, decode_stroke_data\n",
    "\n",
    "train_dataset = DoodleDataset(\n",
    "    data_dir=Path(\"./dataset\"),\n",
    "    split=\"train\",\n",
    "    block_size=32,\n",
    "    scaled_size=200,\n",
    "    device=\"cuda\",\n",
    ")"
   ]
  },
  {
   "cell_type": "code",
   "execution_count": null,
   "metadata": {},
   "outputs": [
    {
     "data": {
      "image/svg+xml": [
       "<svg xmlns=\"http://www.w3.org/2000/svg\" xmlns:ev=\"http://www.w3.org/2001/xml-events\" xmlns:xlink=\"http://www.w3.org/1999/xlink\" baseProfile=\"full\" height=\"95.33333333333333\" version=\"1.1\" width=\"94.99999999999999\"><defs/><rect fill=\"white\" height=\"95.33333333333333\" width=\"94.99999999999999\" x=\"0\" y=\"0\"/><path d=\"M43.33333333333333,37.33333333333333 m-8.333333333333334,1.6666666666666667 l-1.3333333333333333,0.6666666666666666 -1.6666666666666667,1.0 l-3.3333333333333335,4.666666666666667 -2.3333333333333335,7.666666666666667 l-1.3333333333333333,10.0 0.0,8.666666666666666 l2.3333333333333335,9.333333333333334 1.3333333333333333,3.0 l3.3333333333333335,4.0 5.0,2.3333333333333335 l7.0,0.0 3.3333333333333335,-2.3333333333333335 l3.0,-3.6666666666666665 3.0,-8.0 l2.3333333333333335,-8.333333333333334 0.6666666666666666,-7.0 l0.0,-6.666666666666667 -0.3333333333333333,-2.6666666666666665 l-5.0,-8.666666666666666 -4.0,-3.0 l-3.6666666666666665,-3.6666666666666665 1.3333333333333333,-3.3333333333333335 l0.6666666666666666,-8.0 0.0,7.666666666666667 l2.3333333333333335,-0.6666666666666666 10.0,0.0 l5.666666666666667,1.3333333333333333 2.0,0.6666666666666666 l0.0,0.6666666666666666 -2.0,1.0 l-5.666666666666667,1.3333333333333333 -15.0,0.3333333333333333 l16.0,28.333333333333332 -3.3333333333333335,1.3333333333333333 l5.0,-2.0 7.333333333333333,-1.3333333333333333 l-6.333333333333333,4.0 1.3333333333333333,0.6666666666666666 l4.333333333333333,0.0 5.333333333333333,0.0 l12.0,-2.3333333333333335 5.666666666666667,-0.3333333333333333 l-0.3333333333333333,1.0 -7.333333333333333,6.0 l-23.333333333333332,9.333333333333334 -16.666666666666668,5.0 l5.0,-2.6666666666666665 7.333333333333333,-2.6666666666666665 l1.3333333333333333,-1.0 -1.6666666666666667,0.0 l-3.6666666666666665,2.0 -1.0,1.0 l1.0,0.0 \" fill=\"none\" stroke=\"black\" stroke-width=\"1\"/></svg>"
      ],
      "text/plain": [
       "<IPython.core.display.SVG object>"
      ]
     },
     "metadata": {},
     "output_type": "display_data"
    },
    {
     "data": {
      "image/svg+xml": [
       "<svg xmlns=\"http://www.w3.org/2000/svg\" xmlns:ev=\"http://www.w3.org/2001/xml-events\" xmlns:xlink=\"http://www.w3.org/1999/xlink\" baseProfile=\"full\" height=\"95.33333333333334\" version=\"1.1\" width=\"70.33333333333334\"><defs/><rect fill=\"white\" height=\"95.33333333333334\" width=\"70.33333333333334\" x=\"0\" y=\"0\"/><path d=\"M35.0,39.0 m-1.3333333333333333,0.6666666666666666 l-1.6666666666666667,1.0 -3.3333333333333335,4.666666666666667 l-2.3333333333333335,7.666666666666667 -1.3333333333333333,10.0 l0.0,8.666666666666666 2.3333333333333335,9.333333333333334 l1.3333333333333333,3.0 3.3333333333333335,4.0 l5.0,2.3333333333333335 7.0,0.0 l3.3333333333333335,-2.3333333333333335 3.0,-3.6666666666666665 l3.0,-8.0 2.3333333333333335,-8.333333333333334 l0.6666666666666666,-7.0 0.0,-6.666666666666667 l-0.3333333333333333,-2.6666666666666665 -5.0,-8.666666666666666 l-4.0,-3.0 -3.6666666666666665,-3.6666666666666665 l1.3333333333333333,-3.3333333333333335 0.6666666666666666,-8.0 l0.0,7.666666666666667 2.3333333333333335,-0.6666666666666666 l10.0,0.0 5.666666666666667,1.3333333333333333 l2.0,0.6666666666666666 0.0,0.6666666666666666 l-2.0,1.0 -5.666666666666667,1.3333333333333333 l-15.0,0.3333333333333333 \" fill=\"none\" stroke=\"black\" stroke-width=\"1\"/></svg>"
      ],
      "text/plain": [
       "<IPython.core.display.SVG object>"
      ]
     },
     "metadata": {},
     "output_type": "display_data"
    },
    {
     "data": {
      "image/svg+xml": [
       "<svg xmlns=\"http://www.w3.org/2000/svg\" xmlns:ev=\"http://www.w3.org/2001/xml-events\" xmlns:xlink=\"http://www.w3.org/1999/xlink\" baseProfile=\"full\" height=\"95.33333333333334\" version=\"1.1\" width=\"70.33333333333334\"><defs/><rect fill=\"white\" height=\"95.33333333333334\" width=\"70.33333333333334\" x=\"0\" y=\"0\"/><path d=\"M33.66666666666667,39.666666666666664 m-1.6666666666666667,1.0 l-3.3333333333333335,4.666666666666667 -2.3333333333333335,7.666666666666667 l-1.3333333333333333,10.0 0.0,8.666666666666666 l2.3333333333333335,9.333333333333334 1.3333333333333333,3.0 l3.3333333333333335,4.0 5.0,2.3333333333333335 l7.0,0.0 3.3333333333333335,-2.3333333333333335 l3.0,-3.6666666666666665 3.0,-8.0 l2.3333333333333335,-8.333333333333334 0.6666666666666666,-7.0 l0.0,-6.666666666666667 -0.3333333333333333,-2.6666666666666665 l-5.0,-8.666666666666666 -4.0,-3.0 l-3.6666666666666665,-3.6666666666666665 1.3333333333333333,-3.3333333333333335 l0.6666666666666666,-8.0 0.0,7.666666666666667 l2.3333333333333335,-0.6666666666666666 10.0,0.0 l5.666666666666667,1.3333333333333333 2.0,0.6666666666666666 l0.0,0.6666666666666666 -2.0,1.0 l-5.666666666666667,1.3333333333333333 -15.0,0.3333333333333333 l16.0,28.333333333333332 \" fill=\"none\" stroke=\"black\" stroke-width=\"1\"/></svg>"
      ],
      "text/plain": [
       "<IPython.core.display.SVG object>"
      ]
     },
     "metadata": {},
     "output_type": "display_data"
    }
   ],
   "source": [
    "idx = random.randint(0, len(train_dataset))\n",
    "x, y, classname_embedding = train_dataset[idx]\n",
    "\n",
    "x_decoded = decode_stroke_data(x)\n",
    "draw_strokes(x_decoded, factor=3)\n",
    "\n",
    "y_decoded = decode_stroke_data(y)\n",
    "draw_strokes(y_decoded, factor=3)"
   ]
  },
  {
   "cell_type": "code",
   "execution_count": null,
   "metadata": {},
   "outputs": [
    {
     "name": "stdout",
     "output_type": "stream",
     "text": [
      "Preprocessing Data:\n"
     ]
    },
    {
     "name": "stderr",
     "output_type": "stream",
     "text": [
      "1it [00:03,  3.03s/it]"
     ]
    },
    {
     "name": "stdout",
     "output_type": "stream",
     "text": [
      "Calculating CLIP Embeddings\n"
     ]
    },
    {
     "name": "stderr",
     "output_type": "stream",
     "text": [
      "\n"
     ]
    }
   ],
   "source": [
    "mean = np.array([1.1523420567837017, -1.7892017952608004])\n",
    "std = np.array([17.661761786706826, 19.484090706411575])\n",
    "\n",
    "normalized_dataset = DoodleDataset(\n",
    "    data_dir=Path(\"./dataset\"),\n",
    "    split=\"train\",\n",
    "    block_size=32,\n",
    "    scaled_size=200,\n",
    "    device=\"cuda\",\n",
    "    mean=mean,\n",
    "    std=std,\n",
    ")\n",
    "\n",
    "idx = random.randint(0, len(normalized_dataset))\n",
    "x, y, classname_embedding = normalized_dataset[idx]"
   ]
  }
 ],
 "metadata": {
  "kernelspec": {
   "display_name": "DoodleGeneration",
   "language": "python",
   "name": "python3"
  },
  "language_info": {
   "codemirror_mode": {
    "name": "ipython",
    "version": 3
   },
   "file_extension": ".py",
   "mimetype": "text/x-python",
   "name": "python",
   "nbconvert_exporter": "python",
   "pygments_lexer": "ipython3",
   "version": "3.12.3"
  }
 },
 "nbformat": 4,
 "nbformat_minor": 2
}
